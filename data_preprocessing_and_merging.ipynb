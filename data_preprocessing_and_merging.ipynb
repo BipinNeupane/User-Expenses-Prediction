{
 "cells": [
  {
   "cell_type": "markdown",
   "id": "24f54e34",
   "metadata": {},
   "source": [
    "<h1 style=\"text-align: center;\">User Expenses Prediction - Data Preparation</h1>"
   ]
  },
  {
   "cell_type": "code",
   "execution_count": 1,
   "id": "1a434e3d-15c7-44db-bd31-f11ea0a075b5",
   "metadata": {},
   "outputs": [],
   "source": [
    "import pandas as pd \n",
    "import numpy as np"
   ]
  },
  {
   "cell_type": "code",
   "execution_count": 2,
   "id": "f61a3700-fdf7-42d5-b487-9770c2687492",
   "metadata": {},
   "outputs": [],
   "source": [
    "# Sheet has two tabs so we import both tabs\n",
    "df1 = pd.read_excel('dataset.xlsx', sheet_name=0)  # First sheet\n",
    "df2 = pd.read_excel('dataset.xlsx', sheet_name=1)  # Second sheet"
   ]
  },
  {
   "cell_type": "code",
   "execution_count": 3,
   "id": "a108f6a6-bbd3-4c2c-8463-a031e5f25161",
   "metadata": {},
   "outputs": [
    {
     "name": "stdout",
     "output_type": "stream",
     "text": [
      "{14911.0: 5710, 17841.0: 5114, 14606.0: 3927, 14156.0: 2710, 12748.0: 2665}\n"
     ]
    }
   ],
   "source": [
    "mode_df1 = df1['Customer ID'].value_counts().to_dict()\n",
    "top_5_df1 = dict(list(mode_df1.items())[:5])\n",
    "print(top_5_df1)"
   ]
  },
  {
   "cell_type": "code",
   "execution_count": 4,
   "id": "ebc14f68",
   "metadata": {},
   "outputs": [
    {
     "name": "stdout",
     "output_type": "stream",
     "text": [
      "{17841.0: 7983, 14911.0: 5903, 14096.0: 5128, 12748.0: 4642, 14606.0: 2782}\n"
     ]
    }
   ],
   "source": [
    "mode_df2 = df2['Customer ID'].value_counts().to_dict()\n",
    "top_5_df2 = dict(list(mode_df2.items())[:5])\n",
    "print(top_5_df2)"
   ]
  },
  {
   "cell_type": "markdown",
   "id": "7da7ae84",
   "metadata": {},
   "source": [
    "We have two users that have high records in both dataset (i.e 2009-2011):\n",
    "1. User ID <b>14911</b>: 5710 + 5903 = 11613\n",
    "2. User ID <b>17841</b>: 5114 + 7983 = 13097\n",
    "\n",
    "These two users have highest number of records in both dataset. These two users can be taken as reference for our dataset preparation. Between those two we need to find the best fit user with less inconsistency in the dataset."
   ]
  },
  {
   "cell_type": "markdown",
   "id": "e77dc9d6",
   "metadata": {},
   "source": [
    "Testing for user 14911 (user_x)"
   ]
  },
  {
   "cell_type": "code",
   "execution_count": null,
   "id": "3b0151f6",
   "metadata": {},
   "outputs": [
    {
     "data": {
      "text/plain": [
       "440       EIRE\n",
       "441       EIRE\n",
       "442       EIRE\n",
       "443       EIRE\n",
       "444       EIRE\n",
       "          ... \n",
       "523021    EIRE\n",
       "523022    EIRE\n",
       "523023    EIRE\n",
       "523024    EIRE\n",
       "523025    EIRE\n",
       "Name: Country, Length: 5710, dtype: object"
      ]
     },
     "execution_count": 18,
     "metadata": {},
     "output_type": "execute_result"
    }
   ],
   "source": [
    "user_x = df1[df1['Customer ID'] == 14911]\n",
    "user_x.set_index('InvoiceDate').sort_index()"
   ]
  }
 ],
 "metadata": {
  "kernelspec": {
   "display_name": "venv",
   "language": "python",
   "name": "python3"
  },
  "language_info": {
   "codemirror_mode": {
    "name": "ipython",
    "version": 3
   },
   "file_extension": ".py",
   "mimetype": "text/x-python",
   "name": "python",
   "nbconvert_exporter": "python",
   "pygments_lexer": "ipython3",
   "version": "3.10.12"
  }
 },
 "nbformat": 4,
 "nbformat_minor": 5
}
